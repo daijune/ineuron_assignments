{
 "cells": [
  {
   "cell_type": "code",
   "execution_count": 14,
   "metadata": {},
   "outputs": [
    {
     "name": "stdout",
     "output_type": "stream",
     "text": [
      "Enter a sequence of comma-seperated numbers: 1, 2, 3, 4,5\n",
      "[1, 2, 3, 4, 5]\n"
     ]
    }
   ],
   "source": [
    "# 1.\n",
    "numbers = input('Enter a sequence of comma-seperated numbers: ')\n",
    "numbers = numbers.replace(\" \", \"\")\n",
    "numbers = numbers.split(\",\")\n",
    "numbers2 = []\n",
    "for i in numbers:\n",
    "    numbers2.append(int(i))\n",
    "print(numbers2)"
   ]
  },
  {
   "cell_type": "code",
   "execution_count": 27,
   "metadata": {
    "scrolled": true
   },
   "outputs": [
    {
     "name": "stdout",
     "output_type": "stream",
     "text": [
      "*\n",
      "**\n",
      "***\n",
      "****\n",
      "*****\n",
      "****\n",
      "***\n",
      "**\n",
      "*\n"
     ]
    }
   ],
   "source": [
    "# 2.\n",
    "x = 2\n",
    "for i in range(10):\n",
    "    for j in range(i):\n",
    "        if i <= 5:\n",
    "            print('*'*i)\n",
    "            break\n",
    "        else:\n",
    "            print('*'*(i - x))\n",
    "            x += 2\n",
    "            break\n",
    "        "
   ]
  },
  {
   "cell_type": "code",
   "execution_count": 30,
   "metadata": {
    "scrolled": true
   },
   "outputs": [
    {
     "name": "stdout",
     "output_type": "stream",
     "text": [
      "Enter a word: hello\n",
      "olleh\n"
     ]
    }
   ],
   "source": [
    "# 3.\n",
    "word = input('Enter a word: ')\n",
    "print(word[::-1])"
   ]
  },
  {
   "cell_type": "code",
   "execution_count": 31,
   "metadata": {},
   "outputs": [
    {
     "name": "stdout",
     "output_type": "stream",
     "text": [
      "WE, THE PEOPLE OF INDIA, \n",
      "    having solemnly resolved to constitute India into a SOVEREIGN, !\n",
      "        SOCIALIST, SECULAR, DEMOCRATIC REPUBLIC\n",
      "         and to secure to all its citizens\n"
     ]
    }
   ],
   "source": [
    "# 4.\n",
    "sentence = \"\"\"WE, THE PEOPLE OF INDIA, \n",
    "    having solemnly resolved to constitute India into a SOVEREIGN, !\n",
    "        SOCIALIST, SECULAR, DEMOCRATIC REPUBLIC\n",
    "         and to secure to all its citizens\"\"\"\n",
    "print(sentence)"
   ]
  },
  {
   "cell_type": "code",
   "execution_count": null,
   "metadata": {},
   "outputs": [],
   "source": []
  }
 ],
 "metadata": {
  "kernelspec": {
   "display_name": "Python 3",
   "language": "python",
   "name": "python3"
  },
  "language_info": {
   "codemirror_mode": {
    "name": "ipython",
    "version": 3
   },
   "file_extension": ".py",
   "mimetype": "text/x-python",
   "name": "python",
   "nbconvert_exporter": "python",
   "pygments_lexer": "ipython3",
   "version": "3.8.2"
  }
 },
 "nbformat": 4,
 "nbformat_minor": 4
}
