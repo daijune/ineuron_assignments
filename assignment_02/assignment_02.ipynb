{
 "cells": [
  {
   "cell_type": "code",
   "execution_count": 33,
   "metadata": {},
   "outputs": [],
   "source": [
    "# Task 1 - 1.1\n",
    "def myreduce(funct, itera):\n",
    "    if len(itera) == 2:\n",
    "        return funct(itera[0], itera[1])\n",
    "    i = 2 \n",
    "    r = funct(itera[0], itera[1])\n",
    "    while i < len(itera):\n",
    "        r = funct(r, itera[i])\n",
    "        i += 1\n",
    "    return r\n",
    "    "
   ]
  },
  {
   "cell_type": "code",
   "execution_count": 34,
   "metadata": {},
   "outputs": [],
   "source": [
    "lis=[5,6,7,8,6]\n",
    "lis2=[\"adf\",\"obd\",\"kal\"]\n",
    "lis3=[1,10]"
   ]
  },
  {
   "cell_type": "code",
   "execution_count": 35,
   "metadata": {},
   "outputs": [
    {
     "name": "stdout",
     "output_type": "stream",
     "text": [
      "8\n"
     ]
    }
   ],
   "source": [
    "print(myreduce(lambda x,y: x if x > y else y, lis))"
   ]
  },
  {
   "cell_type": "code",
   "execution_count": 36,
   "metadata": {},
   "outputs": [],
   "source": [
    "# Task 1 - 1.2\n",
    "def myfilter(funct, itera):\n",
    "    r = []\n",
    "    for i in itera:\n",
    "        if funct(i):\n",
    "            r.append(i)\n",
    "    return r"
   ]
  },
  {
   "cell_type": "code",
   "execution_count": 40,
   "metadata": {},
   "outputs": [
    {
     "data": {
      "text/plain": [
       "[6, 7, 8, 6]"
      ]
     },
     "execution_count": 40,
     "metadata": {},
     "output_type": "execute_result"
    }
   ],
   "source": [
    "res = myfilter(lambda x: x>5, lis)\n",
    "res"
   ]
  },
  {
   "cell_type": "code",
   "execution_count": 75,
   "metadata": {},
   "outputs": [
    {
     "name": "stdout",
     "output_type": "stream",
     "text": [
      "['A', 'C', 'A', 'D', 'G', 'I', 'L', 'D']\n",
      "['x', 'xx', 'xxx', 'xxxx', 'y', 'yy', 'yyy', 'yyyy', 'z', 'zz', 'zzz', 'zzzz']\n",
      "['x', 'y', 'z', 'xx', 'yy', 'zz', 'xxx', 'yyy', 'zzz', 'xxxx', 'yyyy', 'zzzz']\n",
      "[[2], [3], [4], [3], [4], [5], [4], [5], [6]]\n",
      "[[2, 3, 4, 5], [3, 4, 5, 6], [4, 5, 6, 7], [5, 6, 7, 8]]\n",
      "[(1, 1), (2, 1), (3, 1), (1, 2), (2, 2), (3, 2), (1, 3), (2, 3), (3, 3)]\n"
     ]
    }
   ],
   "source": [
    "# Task 1 - 2.\n",
    "print([letter for letter in 'ACADGILD'])\n",
    "print([letter*(i+1) for letter in 'xyz' for i in range(4)])\n",
    "print([letter*(i+1) for i in range(4) for letter in 'xyz'])\n",
    "print([[i] for j in range(3) for i in [2,3,4,5,6][j:j+3]])\n",
    "print([[2,3,4,5,6,7,8][j:j+4] for j in range(4)])\n",
    "print([(i+1,j+1) for j in range(3) for i in range(3)])"
   ]
  },
  {
   "cell_type": "code",
   "execution_count": 81,
   "metadata": {},
   "outputs": [
    {
     "name": "stdout",
     "output_type": "stream",
     "text": [
      "aafdaagrgregraabbab\n"
     ]
    }
   ],
   "source": [
    "# Task 1 - 3.\n",
    "def longestWord(lis):\n",
    "    r = lis[0]\n",
    "    for i in lis:\n",
    "        if len(i) > len(r):\n",
    "            r = i\n",
    "    return r\n",
    "            \n",
    "words = [\"aafdaagrgregraabbab\", \"adadfdf\", \"aafagagargas\"]\n",
    "print(longestWord(words))"
   ]
  },
  {
   "cell_type": "code",
   "execution_count": 103,
   "metadata": {},
   "outputs": [
    {
     "name": "stdout",
     "output_type": "stream",
     "text": [
      "enter length of a: 5\n",
      "enter length of b: 4\n",
      "enter length of c: 3\n",
      "6.0\n"
     ]
    }
   ],
   "source": [
    "# Task 2 - 1.1\n",
    "class triangle:\n",
    "    def __init__(self):\n",
    "        self.a = 0\n",
    "        self.b = 0\n",
    "        self.c = 0\n",
    "        \n",
    "    def get_sides(self):\n",
    "        self.a = float(input(\"enter length of a: \"))\n",
    "        self.b = float(input(\"enter length of b: \"))\n",
    "        self.c = float(input(\"enter length of c: \"))\n",
    "        \n",
    "class area(triangle):\n",
    "    def __init__(self):\n",
    "        super().__init__()\n",
    "        self.area = 0\n",
    "            \n",
    "    def calc_area(self):\n",
    "        s = (self.a+self.b+self.c)*0.5\n",
    "        self.area = (s*(s-self.a)*(s-self.b)*(s-self.c))**0.5\n",
    "        print(self.area)\n",
    "        \n",
    "d = area()\n",
    "d.get_sides()\n",
    "d.calc_area()"
   ]
  },
  {
   "cell_type": "code",
   "execution_count": 84,
   "metadata": {},
   "outputs": [
    {
     "data": {
      "text/plain": [
       "['aafdaagrgregraabbab']"
      ]
     },
     "execution_count": 84,
     "metadata": {},
     "output_type": "execute_result"
    }
   ],
   "source": [
    "# Task 2 - 1.2\n",
    "def filter_long_words(lis, n):\n",
    "    r = []\n",
    "    for i in lis:\n",
    "        if len(i) > n:\n",
    "            r.append(i)\n",
    "    return r\n",
    "filter_long_words(words, 15)"
   ]
  },
  {
   "cell_type": "code",
   "execution_count": 88,
   "metadata": {},
   "outputs": [
    {
     "data": {
      "text/plain": [
       "[2, 3, 4]"
      ]
     },
     "execution_count": 88,
     "metadata": {},
     "output_type": "execute_result"
    }
   ],
   "source": [
    "# Task 2 - 2.1\n",
    "def word_length(lis):\n",
    "    r = []\n",
    "    for i in lis:\n",
    "        r.append(len(i))\n",
    "    return r\n",
    "word_length([\"ab\", \"cde\", \"erty\"])"
   ]
  },
  {
   "cell_type": "code",
   "execution_count": 95,
   "metadata": {},
   "outputs": [
    {
     "name": "stdout",
     "output_type": "stream",
     "text": [
      "True\n",
      "False\n"
     ]
    }
   ],
   "source": [
    "# Task 2 - 2.2\n",
    "def is_vowel(c):\n",
    "    if c.lower() in ('a', 'e', 'i', 'o', 'u'):\n",
    "        return True\n",
    "    else:\n",
    "        return False\n",
    "    \n",
    "print(is_vowel('A'))\n",
    "print(is_vowel('b'))"
   ]
  }
 ],
 "metadata": {
  "kernelspec": {
   "display_name": "Python 3",
   "language": "python",
   "name": "python3"
  },
  "language_info": {
   "codemirror_mode": {
    "name": "ipython",
    "version": 3
   },
   "file_extension": ".py",
   "mimetype": "text/x-python",
   "name": "python",
   "nbconvert_exporter": "python",
   "pygments_lexer": "ipython3",
   "version": "3.8.2"
  }
 },
 "nbformat": 4,
 "nbformat_minor": 4
}
