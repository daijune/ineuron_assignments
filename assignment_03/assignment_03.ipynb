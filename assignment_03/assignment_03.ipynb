{
 "cells": [
  {
   "cell_type": "code",
   "execution_count": 2,
   "metadata": {},
   "outputs": [
    {
     "name": "stdout",
     "output_type": "stream",
     "text": [
      "that is impossible\n"
     ]
    }
   ],
   "source": [
    "# Task 1 - 1.\n",
    "def divide_by_zero():\n",
    "    try:\n",
    "        x = 5 / 0\n",
    "    except ZeroDivisionError:\n",
    "        print('that is impossible')\n",
    "    except Exception as e:\n",
    "        print(e)\n",
    "        \n",
    "divide_by_zero()"
   ]
  },
  {
   "cell_type": "code",
   "execution_count": 3,
   "metadata": {},
   "outputs": [
    {
     "name": "stdout",
     "output_type": "stream",
     "text": [
      "Americans play Baseball\n",
      "Americans play Cricket\n",
      "Americans watch Baseball\n",
      "Americans watch Cricket\n",
      "Indians play Baseball\n",
      "Indians play Cricket\n",
      "Indians watch Baseball\n",
      "Indians watch Cricket\n"
     ]
    }
   ],
   "source": [
    "# Task 1 - 2.\n",
    "subjects = [\"Americans\", \"Indians\"]\n",
    "verbs = [\"play\", \"watch\"]\n",
    "objects = [\"Baseball\", \"Cricket\"]\n",
    "\n",
    "for x in subjects:\n",
    "    for y in verbs:\n",
    "        for z in objects:\n",
    "            print(x + \" \" + y + \" \" + z)\n",
    "        "
   ]
  },
  {
   "cell_type": "code",
   "execution_count": 20,
   "metadata": {},
   "outputs": [
    {
     "name": "stdout",
     "output_type": "stream",
     "text": [
      "[[1, 2, 4, 8], [1, 3, 9, 27], [1, 4, 16, 64], [1, 5, 25, 125]]\n"
     ]
    }
   ],
   "source": [
    "# Task 2 - 1.\n",
    "def vandermonde_matrix(lis):\n",
    "    res = []\n",
    "    for i in lis:\n",
    "        res.append([i**j for j in range(len(lis))])\n",
    "    print(res)\n",
    "        \n",
    "vandermonde_matrix([2,3,4,5])"
   ]
  }
 ],
 "metadata": {
  "kernelspec": {
   "display_name": "Python 3",
   "language": "python",
   "name": "python3"
  },
  "language_info": {
   "codemirror_mode": {
    "name": "ipython",
    "version": 3
   },
   "file_extension": ".py",
   "mimetype": "text/x-python",
   "name": "python",
   "nbconvert_exporter": "python",
   "pygments_lexer": "ipython3",
   "version": "3.8.2"
  }
 },
 "nbformat": 4,
 "nbformat_minor": 4
}
